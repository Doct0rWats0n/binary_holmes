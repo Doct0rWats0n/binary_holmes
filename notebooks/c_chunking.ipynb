{
 "cells": [
  {
   "cell_type": "code",
   "execution_count": 1,
   "id": "1c204065-7b82-4dbd-b4d1-afb599a25b20",
   "metadata": {},
   "outputs": [],
   "source": [
    "from langchain.text_splitter import RecursiveCharacterTextSplitter, Language"
   ]
  },
  {
   "cell_type": "code",
   "execution_count": 2,
   "id": "f46cf60f-7406-4589-bd4b-d7d03f2f0706",
   "metadata": {},
   "outputs": [
    {
     "data": {
      "text/plain": [
       "'#include \"std_testcase.h\"\\n\\n#include <wchar.h>\\n\\n#ifdef _WIN32\\n#define COMMAND_INT_PATH L\"%WINDIR%\\\\\\\\system32\\\\\\\\cmd.exe\"\\n#define COMMAND_INT L\"cmd.exe\"\\n#define COMMAND_ARG1 L\"/c\"\\n#define COMMAND_ARG2 L\"dir \"\\n#define COMMAND_ARG3 data\\n#else /* NOT _WIN32 */\\n#include <unistd.h>\\n#define COMMAND_INT_PATH L\"/bin/sh\"\\n#define COMMAND_INT L\"sh\"\\n#define COMMAND_ARG1 L\"-c\"\\n#define COMMAND_ARG2 L\"ls \"\\n#define COMMAND_ARG3 data\\n#endif\\n\\n#ifdef _WIN32\\n#include <winsock2.h>\\n#include <windows.h>\\n#include <direct.h>\\n#pragma comment(lib, \"ws2_32\") /* include ws2_32.lib when linking */\\n#define CLOSE_SOCKET closesocket\\n#else\\n#include <sys/types.h>\\n#include <sys/socket.h>\\n#include <netinet/in.h>\\n#include <arpa/inet.h>\\n#define INVALID_SOCKET -1\\n#define SOCKET_ERROR -1\\n#define CLOSE_SOCKET close\\n#define SOCKET int\\n#endif\\n\\n#define TCP_PORT 27015\\n#define LISTEN_BACKLOG 5\\n\\n#include <process.h>\\n\\ntypedef struct _CWE78_OS_Command_Injection__wchar_t_listen_socket_w32_spawnvp_67_structType\\n{\\n    wchar_t * structFirst;\\n} CWE78_OS_Command_Injection__wchar_t_listen_socket_w32_spawnvp_67_structType;\\n\\n#ifndef OMITBAD\\n\\n/* bad function declaration */\\nvoid CWE78_OS_Command_Injection__wchar_t_listen_socket_w32_spawnvp_67b_badSink(CWE78_OS_Command_Injection__wchar_t_listen_socket_w32_spawnvp_67_structType myStruct);\\n\\nvoid CWE78_OS_Command_Injection__wchar_t_listen_socket_w32_spawnvp_67_bad()\\n{\\n    wchar_t * data;\\n    CWE78_OS_Command_Injection__wchar_t_listen_socket_w32_spawnvp_67_structType myStruct;\\n    wchar_t dataBuffer[100] = COMMAND_ARG2;\\n    data = dataBuffer;\\n    {\\n#ifdef _WIN32\\n        WSADATA wsaData;\\n        int wsaDataInit = 0;\\n#endif\\n        int recvResult;\\n        struct sockaddr_in service;\\n        wchar_t *replace;\\n        SOCKET listenSocket = INVALID_SOCKET;\\n        SOCKET acceptSocket = INVALID_SOCKET;\\n        size_t dataLen = wcslen(data);\\n        do\\n        {\\n#ifdef _WIN32\\n            if (WSAStartup(MAKEWORD(2,2), &wsaData) != NO_ERROR)\\n            {\\n                break;\\n            }\\n            wsaDataInit = 1;\\n#endif\\n            /* POTENTIAL FLAW: Read data using a listen socket */\\n            listenSocket = socket(AF_INET, SOCK_STREAM, IPPROTO_TCP);\\n            if (listenSocket == INVALID_SOCKET)\\n            {\\n                break;\\n            }\\n            memset(&service, 0, sizeof(service));\\n            service.sin_family = AF_INET;\\n            service.sin_addr.s_addr = INADDR_ANY;\\n            service.sin_port = htons(TCP_PORT);\\n            if (bind(listenSocket, (struct sockaddr*)&service, sizeof(service)) == SOCKET_ERROR)\\n            {\\n                break;\\n            }\\n            if (listen(listenSocket, LISTEN_BACKLOG) == SOCKET_ERROR)\\n            {\\n                break;\\n            }\\n            acceptSocket = accept(listenSocket, NULL, NULL);\\n            if (acceptSocket == SOCKET_ERROR)\\n            {\\n                break;\\n            }\\n            /* Abort on error or the connection was closed */\\n            recvResult = recv(acceptSocket, (char *)(data + dataLen), sizeof(wchar_t) * (100 - dataLen - 1), 0);\\n            if (recvResult == SOCKET_ERROR || recvResult == 0)\\n            {\\n                break;\\n            }\\n            /* Append null terminator */\\n            data[dataLen + recvResult / sizeof(wchar_t)] = L\\'\\\\0\\';\\n            /* Eliminate CRLF */\\n            replace = wcschr(data, L\\'\\\\r\\');\\n            if (replace)\\n            {\\n                *replace = L\\'\\\\0\\';\\n            }\\n            replace = wcschr(data, L\\'\\\\n\\');\\n            if (replace)\\n            {\\n                *replace = L\\'\\\\0\\';\\n            }\\n        }\\n        while (0);\\n        if (listenSocket != INVALID_SOCKET)\\n        {\\n            CLOSE_SOCKET(listenSocket);\\n        }\\n        if (acceptSocket != INVALID_SOCKET)\\n        {\\n            CLOSE_SOCKET(acceptSocket);\\n        }\\n#ifdef _WIN32\\n        if (wsaDataInit)\\n        {\\n            WSACleanup();\\n        }\\n#endif\\n    }\\n    myStruct.structFirst = data;\\n    CWE78_OS_Command_Injection__wchar_t_listen_socket_w32_spawnvp_67b_badSink(myStruct);\\n}\\n\\n#endif /* OMITBAD */\\n\\n#ifndef OMITGOOD\\n\\n/* goodG2B uses the GoodSource with the BadSink */\\nvoid CWE78_OS_Command_Injection__wchar_t_listen_socket_w32_spawnvp_67b_goodG2BSink(CWE78_OS_Command_Injection__wchar_t_listen_socket_w32_spawnvp_67_structType myStruct);\\n\\nstatic void goodG2B()\\n{\\n    wchar_t * data;\\n    CWE78_OS_Command_Injection__wchar_t_listen_socket_w32_spawnvp_67_structType myStruct;\\n    wchar_t dataBuffer[100] = COMMAND_ARG2;\\n    data = dataBuffer;\\n    /* FIX: Append a fixed string to data (not user / external input) */\\n    wcscat(data, L\"*.*\");\\n    myStruct.structFirst = data;\\n    CWE78_OS_Command_Injection__wchar_t_listen_socket_w32_spawnvp_67b_goodG2BSink(myStruct);\\n}\\n\\nvoid CWE78_OS_Command_Injection__wchar_t_listen_socket_w32_spawnvp_67_good()\\n{\\n    goodG2B();\\n}\\n\\n#endif /* OMITGOOD */\\n\\n/* Below is the main(). It is only used when building this testcase on\\n * its own for testing or for building a binary to use in testing binary\\n * analysis tools. It is not used when compiling all the testcases as one\\n * application, which is how source code analysis tools are tested.\\n */\\n\\n#ifdef INCLUDEMAIN\\n\\nint main(int argc, char * argv[])\\n{\\n    /* seed randomness */\\n    srand( (unsigned)time(NULL) );\\n#ifndef OMITGOOD\\n    printLine(\"Calling good()...\");\\n    CWE78_OS_Command_Injection__wchar_t_listen_socket_w32_spawnvp_67_good();\\n    printLine(\"Finished good()\");\\n#endif /* OMITGOOD */\\n#ifndef OMITBAD\\n    printLine(\"Calling bad()...\");\\n    CWE78_OS_Command_Injection__wchar_t_listen_socket_w32_spawnvp_67_bad();\\n    printLine(\"Finished bad()\");\\n#endif /* OMITBAD */\\n    return 0;\\n}\\n\\n#endif\\n'"
      ]
     },
     "execution_count": 2,
     "metadata": {},
     "output_type": "execute_result"
    }
   ],
   "source": [
    "with open('file.c', 'r') as f:\n",
    "    c_code = f.read()\n",
    "c_code"
   ]
  },
  {
   "cell_type": "code",
   "execution_count": 5,
   "id": "382a7558-3ffb-4d09-a9c4-c1a22cb20836",
   "metadata": {},
   "outputs": [
    {
     "data": {
      "text/plain": [
       "[Document(page_content='#include \"std_testcase.h\"\\n\\n#include <wchar.h>'),\n",
       " Document(page_content='#ifdef _WIN32\\n#define COMMAND_INT_PATH L\"%WINDIR%\\\\\\\\system32\\\\\\\\cmd.exe\"'),\n",
       " Document(page_content='#define COMMAND_INT L\"cmd.exe\"\\n#define COMMAND_ARG1 L\"/c\"\\n#define COMMAND_ARG2 L\"dir \"'),\n",
       " Document(page_content='#define COMMAND_ARG2 L\"dir \"\\n#define COMMAND_ARG3 data\\n#else /* NOT _WIN32 */\\n#include <unistd.h>'),\n",
       " Document(page_content='#else /* NOT _WIN32 */\\n#include <unistd.h>\\n#define COMMAND_INT_PATH L\"/bin/sh\"'),\n",
       " Document(page_content='#define COMMAND_INT_PATH L\"/bin/sh\"\\n#define COMMAND_INT L\"sh\"\\n#define COMMAND_ARG1 L\"-c\"'),\n",
       " Document(page_content='#define COMMAND_ARG1 L\"-c\"\\n#define COMMAND_ARG2 L\"ls \"\\n#define COMMAND_ARG3 data\\n#endif'),\n",
       " Document(page_content='#ifdef _WIN32\\n#include <winsock2.h>\\n#include <windows.h>\\n#include <direct.h>'),\n",
       " Document(page_content='#include <direct.h>\\n#pragma comment(lib, \"ws2_32\") /* include ws2_32.lib when linking */'),\n",
       " Document(page_content='#define CLOSE_SOCKET closesocket\\n#else\\n#include <sys/types.h>\\n#include <sys/socket.h>'),\n",
       " Document(page_content='#include <sys/types.h>\\n#include <sys/socket.h>\\n#include <netinet/in.h>\\n#include <arpa/inet.h>'),\n",
       " Document(page_content='#include <netinet/in.h>\\n#include <arpa/inet.h>\\n#define INVALID_SOCKET -1\\n#define SOCKET_ERROR -1'),\n",
       " Document(page_content='#define INVALID_SOCKET -1\\n#define SOCKET_ERROR -1\\n#define CLOSE_SOCKET close\\n#define SOCKET int'),\n",
       " Document(page_content='#define CLOSE_SOCKET close\\n#define SOCKET int\\n#endif'),\n",
       " Document(page_content='#define TCP_PORT 27015\\n#define LISTEN_BACKLOG 5\\n\\n#include <process.h>'),\n",
       " Document(page_content='typedef struct _CWE78_OS_Command_Injection__wchar_t_listen_socket_w32_spawnvp_67_structType\\n{'),\n",
       " Document(page_content='{\\n    wchar_t * structFirst;'),\n",
       " Document(page_content='} CWE78_OS_Command_Injection__wchar_t_listen_socket_w32_spawnvp_67_structType;'),\n",
       " Document(page_content='#ifndef OMITBAD\\n\\n/* bad function declaration */'),\n",
       " Document(page_content='void'),\n",
       " Document(page_content='CWE78_OS_Command_Injection__wchar_t_listen_socket_w32_spawnvp_67b_badSink(CWE78_OS_Command_Injectio'),\n",
       " Document(page_content='_w32_spawnvp_67b_badSink(CWE78_OS_Command_Injection__wchar_t_listen_socket_w32_spawnvp_67_structType'),\n",
       " Document(page_content='myStruct);'),\n",
       " Document(page_content='void CWE78_OS_Command_Injection__wchar_t_listen_socket_w32_spawnvp_67_bad()\\n{\\n    wchar_t * data;'),\n",
       " Document(page_content='CWE78_OS_Command_Injection__wchar_t_listen_socket_w32_spawnvp_67_structType myStruct;'),\n",
       " Document(page_content='wchar_t dataBuffer[100] = COMMAND_ARG2;\\n    data = dataBuffer;\\n    {\\n#ifdef _WIN32'),\n",
       " Document(page_content='data = dataBuffer;\\n    {\\n#ifdef _WIN32\\n        WSADATA wsaData;\\n        int wsaDataInit = 0;'),\n",
       " Document(page_content='int wsaDataInit = 0;\\n#endif\\n        int recvResult;\\n        struct sockaddr_in service;'),\n",
       " Document(page_content='struct sockaddr_in service;\\n        wchar_t *replace;'),\n",
       " Document(page_content='wchar_t *replace;\\n        SOCKET listenSocket = INVALID_SOCKET;'),\n",
       " Document(page_content='SOCKET listenSocket = INVALID_SOCKET;\\n        SOCKET acceptSocket = INVALID_SOCKET;'),\n",
       " Document(page_content='SOCKET acceptSocket = INVALID_SOCKET;\\n        size_t dataLen = wcslen(data);\\n        do'),\n",
       " Document(page_content='size_t dataLen = wcslen(data);\\n        do\\n        {\\n#ifdef _WIN32'),\n",
       " Document(page_content='do\\n        {\\n#ifdef _WIN32\\n            if (WSAStartup(MAKEWORD(2,2), &wsaData) != NO_ERROR)'),\n",
       " Document(page_content='{\\n                break;\\n            }\\n            wsaDataInit = 1;\\n#endif'),\n",
       " Document(page_content='#endif\\n            /* POTENTIAL FLAW: Read data using a listen socket */'),\n",
       " Document(page_content='listenSocket = socket(AF_INET, SOCK_STREAM, IPPROTO_TCP);'),\n",
       " Document(page_content='if (listenSocket == INVALID_SOCKET)\\n            {\\n                break;\\n            }'),\n",
       " Document(page_content='break;\\n            }\\n            memset(&service, 0, sizeof(service));'),\n",
       " Document(page_content='memset(&service, 0, sizeof(service));\\n            service.sin_family = AF_INET;'),\n",
       " Document(page_content='service.sin_family = AF_INET;\\n            service.sin_addr.s_addr = INADDR_ANY;'),\n",
       " Document(page_content='service.sin_addr.s_addr = INADDR_ANY;\\n            service.sin_port = htons(TCP_PORT);'),\n",
       " Document(page_content='if (bind(listenSocket, (struct sockaddr*)&service, sizeof(service)) == SOCKET_ERROR)'),\n",
       " Document(page_content='{\\n                break;\\n            }'),\n",
       " Document(page_content='}\\n            if (listen(listenSocket, LISTEN_BACKLOG) == SOCKET_ERROR)\\n            {'),\n",
       " Document(page_content='{\\n                break;\\n            }'),\n",
       " Document(page_content='break;\\n            }\\n            acceptSocket = accept(listenSocket, NULL, NULL);'),\n",
       " Document(page_content='if (acceptSocket == SOCKET_ERROR)\\n            {\\n                break;\\n            }'),\n",
       " Document(page_content='break;\\n            }\\n            /* Abort on error or the connection was closed */'),\n",
       " Document(page_content='recvResult = recv(acceptSocket, (char *)(data + dataLen), sizeof(wchar_t) * (100 -'),\n",
       " Document(page_content='*)(data + dataLen), sizeof(wchar_t) * (100 - dataLen - 1), 0);'),\n",
       " Document(page_content='if (recvResult == SOCKET_ERROR || recvResult == 0)\\n            {\\n                break;'),\n",
       " Document(page_content='{\\n                break;\\n            }\\n            /* Append null terminator */'),\n",
       " Document(page_content=\"data[dataLen + recvResult / sizeof(wchar_t)] = L'\\\\0';\\n            /* Eliminate CRLF */\"),\n",
       " Document(page_content=\"/* Eliminate CRLF */\\n            replace = wcschr(data, L'\\\\r');\"),\n",
       " Document(page_content=\"replace = wcschr(data, L'\\\\r');\\n            if (replace)\\n            {\"),\n",
       " Document(page_content=\"if (replace)\\n            {\\n                *replace = L'\\\\0';\\n            }\"),\n",
       " Document(page_content=\"*replace = L'\\\\0';\\n            }\\n            replace = wcschr(data, L'\\\\n');\"),\n",
       " Document(page_content=\"replace = wcschr(data, L'\\\\n');\\n            if (replace)\\n            {\"),\n",
       " Document(page_content=\"if (replace)\\n            {\\n                *replace = L'\\\\0';\\n            }\\n        }\"),\n",
       " Document(page_content='}\\n        }\\n        while (0);\\n        if (listenSocket != INVALID_SOCKET)\\n        {'),\n",
       " Document(page_content='{\\n            CLOSE_SOCKET(listenSocket);\\n        }'),\n",
       " Document(page_content='CLOSE_SOCKET(listenSocket);\\n        }\\n        if (acceptSocket != INVALID_SOCKET)'),\n",
       " Document(page_content='if (acceptSocket != INVALID_SOCKET)\\n        {\\n            CLOSE_SOCKET(acceptSocket);'),\n",
       " Document(page_content='{\\n            CLOSE_SOCKET(acceptSocket);\\n        }\\n#ifdef _WIN32\\n        if (wsaDataInit)'),\n",
       " Document(page_content='}\\n#ifdef _WIN32\\n        if (wsaDataInit)\\n        {\\n            WSACleanup();\\n        }'),\n",
       " Document(page_content='{\\n            WSACleanup();\\n        }\\n#endif\\n    }\\n    myStruct.structFirst = data;'),\n",
       " Document(page_content='CWE78_OS_Command_Injection__wchar_t_listen_socket_w32_spawnvp_67b_badSink(myStruct);\\n}'),\n",
       " Document(page_content='#endif /* OMITBAD */\\n\\n#ifndef OMITGOOD\\n\\n/* goodG2B uses the GoodSource with the BadSink */'),\n",
       " Document(page_content='void'),\n",
       " Document(page_content='CWE78_OS_Command_Injection__wchar_t_listen_socket_w32_spawnvp_67b_goodG2BSink(CWE78_OS_Command_Inje'),\n",
       " Document(page_content='_w32_spawnvp_67b_goodG2BSink(CWE78_OS_Command_Injection__wchar_t_listen_socket_w32_spawnvp_67_struct'),\n",
       " Document(page_content='ction__wchar_t_listen_socket_w32_spawnvp_67_structType'),\n",
       " Document(page_content='myStruct);'),\n",
       " Document(page_content='static void goodG2B()\\n{\\n    wchar_t * data;'),\n",
       " Document(page_content='CWE78_OS_Command_Injection__wchar_t_listen_socket_w32_spawnvp_67_structType myStruct;'),\n",
       " Document(page_content='wchar_t dataBuffer[100] = COMMAND_ARG2;\\n    data = dataBuffer;'),\n",
       " Document(page_content='data = dataBuffer;\\n    /* FIX: Append a fixed string to data (not user / external input) */'),\n",
       " Document(page_content='wcscat(data, L\"*.*\");\\n    myStruct.structFirst = data;'),\n",
       " Document(page_content='CWE78_OS_Command_Injection__wchar_t_listen_socket_w32_spawnvp_67b_goodG2BSink(myStruct);\\n}'),\n",
       " Document(page_content='void CWE78_OS_Command_Injection__wchar_t_listen_socket_w32_spawnvp_67_good()\\n{\\n    goodG2B();\\n}'),\n",
       " Document(page_content='#endif /* OMITGOOD */'),\n",
       " Document(page_content='/* Below is the main(). It is only used when building this testcase on'),\n",
       " Document(page_content='* its own for testing or for building a binary to use in testing binary'),\n",
       " Document(page_content='* analysis tools. It is not used when compiling all the testcases as one'),\n",
       " Document(page_content='* application, which is how source code analysis tools are tested.\\n */'),\n",
       " Document(page_content='#ifdef INCLUDEMAIN'),\n",
       " Document(page_content='int main(int argc, char * argv[])\\n{\\n    /* seed randomness */\\n    srand( (unsigned)time(NULL) );'),\n",
       " Document(page_content='srand( (unsigned)time(NULL) );\\n#ifndef OMITGOOD\\n    printLine(\"Calling good()...\");'),\n",
       " Document(page_content='CWE78_OS_Command_Injection__wchar_t_listen_socket_w32_spawnvp_67_good();'),\n",
       " Document(page_content='printLine(\"Finished good()\");\\n#endif /* OMITGOOD */\\n#ifndef OMITBAD'),\n",
       " Document(page_content='#endif /* OMITGOOD */\\n#ifndef OMITBAD\\n    printLine(\"Calling bad()...\");'),\n",
       " Document(page_content='CWE78_OS_Command_Injection__wchar_t_listen_socket_w32_spawnvp_67_bad();'),\n",
       " Document(page_content='printLine(\"Finished bad()\");\\n#endif /* OMITBAD */\\n    return 0;\\n}'),\n",
       " Document(page_content='#endif')]"
      ]
     },
     "execution_count": 5,
     "metadata": {},
     "output_type": "execute_result"
    }
   ],
   "source": [
    "c_splitter = RecursiveCharacterTextSplitter.from_language(language=Language.CPP, chunk_size=100, chunk_overlap=50)\n",
    "c_docs = c_splitter.create_documents([c_code])\n",
    "c_docs"
   ]
  },
  {
   "cell_type": "code",
   "execution_count": null,
   "id": "b907c312-9542-489e-8ba9-20a02dc47760",
   "metadata": {},
   "outputs": [],
   "source": []
  }
 ],
 "metadata": {
  "kernelspec": {
   "display_name": "binarySecEnv",
   "language": "python",
   "name": "binarysecenv"
  },
  "language_info": {
   "codemirror_mode": {
    "name": "ipython",
    "version": 3
   },
   "file_extension": ".py",
   "mimetype": "text/x-python",
   "name": "python",
   "nbconvert_exporter": "python",
   "pygments_lexer": "ipython3",
   "version": "3.11.6"
  }
 },
 "nbformat": 4,
 "nbformat_minor": 5
}
