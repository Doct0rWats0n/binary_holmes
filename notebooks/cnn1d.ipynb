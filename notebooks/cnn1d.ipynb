{
 "cells": [
  {
   "cell_type": "code",
   "execution_count": 7,
   "metadata": {},
   "outputs": [],
   "source": [
    "import torch\n",
    "import torch.nn as nn\n",
    "from torch.utils.data import DataLoader, Dataset"
   ]
  },
  {
   "cell_type": "code",
   "execution_count": 78,
   "metadata": {},
   "outputs": [],
   "source": [
    "import random\n",
    "\n",
    "class RandomSizeDataset(Dataset):\n",
    "    def __init__(self, min = 1000, max=10000) -> None:\n",
    "        super().__init__()\n",
    "        self.min = min\n",
    "        self.max = max\n",
    "\n",
    "    def __getitem__(self, index):\n",
    "        return torch.randint(1, 10000, (random.randint(self.min, self.max), )), random.randint(1, 10)\n",
    "\n",
    "    def __len__(self):\n",
    "        return 100"
   ]
  },
  {
   "cell_type": "code",
   "execution_count": 79,
   "metadata": {},
   "outputs": [],
   "source": [
    "def collate_fn(batch):\n",
    "    xs = [b[0] for b in batch]\n",
    "    ys = [b[1] for b in batch]\n",
    "    ls = [b[0].shape[0] for b in batch]\n",
    "    padded = nn.utils.rnn.pad_sequence(xs, batch_first=True, padding_value=0)\n",
    "    return padded, ls, torch.tensor(ys)\n",
    "\n",
    "batch_size = 10\n",
    "\n",
    "dl = DataLoader(\n",
    "    dataset=RandomSizeDataset(1000, 100000),\n",
    "    batch_size=batch_size,\n",
    "    collate_fn=collate_fn  # кастомная функция для объединения бачей\n",
    ")"
   ]
  },
  {
   "cell_type": "code",
   "execution_count": 80,
   "metadata": {},
   "outputs": [],
   "source": [
    "x, l, y = next(iter(dl))"
   ]
  },
  {
   "cell_type": "code",
   "execution_count": 81,
   "metadata": {},
   "outputs": [
    {
     "data": {
      "text/plain": [
       "torch.Size([10, 99774])"
      ]
     },
     "execution_count": 81,
     "metadata": {},
     "output_type": "execute_result"
    }
   ],
   "source": [
    "x.shape"
   ]
  },
  {
   "cell_type": "code",
   "execution_count": null,
   "metadata": {},
   "outputs": [],
   "source": []
  },
  {
   "cell_type": "code",
   "execution_count": 82,
   "metadata": {},
   "outputs": [],
   "source": [
    "e = nn.Embedding(10000, 8)\n",
    "c = nn.Conv1d(8, 16, kernel_size=120, stride=60)\n",
    "c1 = nn.Conv1d(16, 32, kernel_size=120, stride=60)\n",
    "a = nn.AdaptiveAvgPool1d(1)\n",
    "l = nn.Linear(32, 20)"
   ]
  },
  {
   "cell_type": "code",
   "execution_count": 83,
   "metadata": {},
   "outputs": [],
   "source": [
    "embed = e(x).transpose(1, 2)\n",
    "cnned = c(embed)\n",
    "cnned = c1(cnned)\n",
    "aed = a(cnned).squeeze()\n",
    "logits = l(aed)"
   ]
  },
  {
   "cell_type": "code",
   "execution_count": 84,
   "metadata": {},
   "outputs": [
    {
     "data": {
      "text/plain": [
       "(torch.Size([10, 99774]), torch.Size([10, 20]))"
      ]
     },
     "execution_count": 84,
     "metadata": {},
     "output_type": "execute_result"
    }
   ],
   "source": [
    "x.shape, logits.shape"
   ]
  },
  {
   "cell_type": "code",
   "execution_count": 93,
   "metadata": {},
   "outputs": [],
   "source": [
    "emded = nn.Embedding(10000, 8)\n",
    "layers = nn.Sequential(\n",
    "    nn.Conv1d(8, 16, kernel_size=120, stride=60),\n",
    "    nn.ReLU(),\n",
    "    nn.Conv1d(16, 32, kernel_size=30, stride=10),\n",
    "    nn.AdaptiveAvgPool1d(1),\n",
    ")\n",
    "logits = fc1 = nn.Linear(32, 20)"
   ]
  },
  {
   "cell_type": "code",
   "execution_count": 96,
   "metadata": {},
   "outputs": [
    {
     "data": {
      "text/plain": [
       "torch.Size([10, 20])"
      ]
     },
     "execution_count": 96,
     "metadata": {},
     "output_type": "execute_result"
    }
   ],
   "source": [
    "e = emded(x).transpose(1, 2)\n",
    "cnned = layers(e).squeeze()\n",
    "fc1(cnned)"
   ]
  },
  {
   "cell_type": "code",
   "execution_count": null,
   "metadata": {},
   "outputs": [],
   "source": []
  }
 ],
 "metadata": {
  "kernelspec": {
   "display_name": "fast",
   "language": "python",
   "name": "python3"
  },
  "language_info": {
   "codemirror_mode": {
    "name": "ipython",
    "version": 3
   },
   "file_extension": ".py",
   "mimetype": "text/x-python",
   "name": "python",
   "nbconvert_exporter": "python",
   "pygments_lexer": "ipython3",
   "version": "3.10.12"
  }
 },
 "nbformat": 4,
 "nbformat_minor": 2
}
