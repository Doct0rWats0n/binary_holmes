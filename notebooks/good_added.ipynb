{
 "cells": [
  {
   "cell_type": "code",
   "execution_count": 1,
   "metadata": {},
   "outputs": [],
   "source": [
    "%load_ext autoreload\n",
    "%autoreload 2"
   ]
  },
  {
   "cell_type": "code",
   "execution_count": 2,
   "metadata": {},
   "outputs": [],
   "source": [
    "import sys\n",
    "sys.path.append(\"../\")"
   ]
  },
  {
   "cell_type": "code",
   "execution_count": 81,
   "metadata": {},
   "outputs": [],
   "source": [
    "from argparse import ArgumentParser, Namespace\n",
    "import torch\n",
    "from torch.utils.data import WeightedRandomSampler, DataLoader, random_split\n",
    "import numpy as np\n",
    "import torch.nn as nn\n",
    "from collections import Counter"
   ]
  },
  {
   "cell_type": "code",
   "execution_count": 27,
   "metadata": {},
   "outputs": [],
   "source": [
    "from src.data.sard import SARDataset, SARD"
   ]
  },
  {
   "cell_type": "code",
   "execution_count": 28,
   "metadata": {},
   "outputs": [
    {
     "name": "stdout",
     "output_type": "stream",
     "text": [
      "vocab_loaded\n"
     ]
    }
   ],
   "source": [
    "sard = SARDataset(\"../data/SARD/raw/llvmir/\")"
   ]
  },
  {
   "cell_type": "code",
   "execution_count": 29,
   "metadata": {},
   "outputs": [
    {
     "data": {
      "text/plain": [
       "68552"
      ]
     },
     "execution_count": 29,
     "metadata": {},
     "output_type": "execute_result"
    }
   ],
   "source": [
    "len(sard.data_paths)"
   ]
  },
  {
   "cell_type": "code",
   "execution_count": 30,
   "metadata": {},
   "outputs": [
    {
     "data": {
      "text/plain": [
       "68552"
      ]
     },
     "execution_count": 30,
     "metadata": {},
     "output_type": "execute_result"
    }
   ],
   "source": [
    "len(sard.data_paths)"
   ]
  },
  {
   "cell_type": "code",
   "execution_count": 84,
   "metadata": {},
   "outputs": [],
   "source": [
    "counter = Counter(sard.labels)\n",
    "weights = torch.tensor([1 / counter[y] for y in sard.labels], dtype=torch.double)"
   ]
  },
  {
   "cell_type": "code",
   "execution_count": 85,
   "metadata": {},
   "outputs": [
    {
     "data": {
      "text/plain": [
       "Counter({'GOOD': 34276,\n",
       "         'CWE190': 3960,\n",
       "         'CWE122': 3870,\n",
       "         'CWE121': 3100,\n",
       "         'CWE762': 2988,\n",
       "         'CWE191': 2952,\n",
       "         'CWE590': 2280,\n",
       "         'CWE134': 1200,\n",
       "         'CWE124': 1168,\n",
       "         'CWE127': 1168,\n",
       "         'CWE195': 1152,\n",
       "         'CWE194': 1152,\n",
       "         'CWE36': 960,\n",
       "         'CWE23': 960,\n",
       "         'CWE78': 960,\n",
       "         'CWE457': 926,\n",
       "         'CWE126': 870,\n",
       "         'CWE369': 864,\n",
       "         'CWE197': 864,\n",
       "         'CWE415': 818,\n",
       "         'CWE690': 768,\n",
       "         'CWE400': 720,\n",
       "         'CWE680': 576})"
      ]
     },
     "execution_count": 85,
     "metadata": {},
     "output_type": "execute_result"
    }
   ],
   "source": [
    "counter"
   ]
  },
  {
   "cell_type": "code",
   "execution_count": 46,
   "metadata": {},
   "outputs": [],
   "source": [
    "sampler = WeightedRandomSampler(weights, len(sard.labels))"
   ]
  },
  {
   "cell_type": "code",
   "execution_count": 56,
   "metadata": {},
   "outputs": [],
   "source": [
    "def collate_fn(batch):\n",
    "    xs = [b[0] for b in batch]\n",
    "    ys = [b[1] for b in batch]\n",
    "    ls = [b[0].shape[0] for b in batch]\n",
    "    padded = nn.utils.rnn.pad_sequence(xs, batch_first=True, padding_value=0)\n",
    "    return padded, ls, torch.tensor(ys)"
   ]
  },
  {
   "cell_type": "code",
   "execution_count": 82,
   "metadata": {},
   "outputs": [],
   "source": [
    "train_size = int(len(sard) * 0.8)\n",
    "data_train, data_val = random_split(sard, (train_size, len(sard) - train_size))"
   ]
  },
  {
   "cell_type": "code",
   "execution_count": 80,
   "metadata": {},
   "outputs": [
    {
     "data": {
      "text/plain": [
       "tensor(6)"
      ]
     },
     "execution_count": 80,
     "metadata": {},
     "output_type": "execute_result"
    }
   ],
   "source": [
    "dl = DataLoader(sard, batch_size=100, sampler=sampler, collate_fn=collate_fn)\n",
    "(next(iter(dl))[-1] == 5).sum()"
   ]
  },
  {
   "cell_type": "code",
   "execution_count": 86,
   "metadata": {},
   "outputs": [],
   "source": [
    "COUNTER  = {\n",
    "    'GOOD': 34276,\n",
    "    'CWE190': 3960,\n",
    "    'CWE122': 3870,\n",
    "    'CWE121': 3100,\n",
    "    'CWE762': 2988,\n",
    "    'CWE191': 2952,\n",
    "    'CWE590': 2280,\n",
    "    'CWE134': 1200,\n",
    "    'CWE124': 1168,\n",
    "    'CWE127': 1168,\n",
    "    'CWE195': 1152,\n",
    "    'CWE194': 1152,\n",
    "    'CWE36': 960,\n",
    "    'CWE23': 960,\n",
    "    'CWE78': 960,\n",
    "    'CWE457': 926,\n",
    "    'CWE126': 870,\n",
    "    'CWE369': 864,\n",
    "    'CWE197': 864,\n",
    "    'CWE415': 818,\n",
    "    'CWE690': 768,\n",
    "    'CWE400': 720,\n",
    "    'CWE680': 576\n",
    "}"
   ]
  },
  {
   "cell_type": "code",
   "execution_count": null,
   "metadata": {},
   "outputs": [],
   "source": []
  }
 ],
 "metadata": {
  "kernelspec": {
   "display_name": "fast",
   "language": "python",
   "name": "python3"
  },
  "language_info": {
   "codemirror_mode": {
    "name": "ipython",
    "version": 3
   },
   "file_extension": ".py",
   "mimetype": "text/x-python",
   "name": "python",
   "nbconvert_exporter": "python",
   "pygments_lexer": "ipython3",
   "version": "3.10.12"
  }
 },
 "nbformat": 4,
 "nbformat_minor": 2
}
