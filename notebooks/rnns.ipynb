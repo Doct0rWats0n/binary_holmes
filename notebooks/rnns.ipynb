{
 "cells": [
  {
   "cell_type": "code",
   "execution_count": 1,
   "metadata": {},
   "outputs": [],
   "source": [
    "import torch\n",
    "import torch.nn as nn\n",
    "import torch.nn.functional as F"
   ]
  },
  {
   "cell_type": "code",
   "execution_count": 2,
   "metadata": {},
   "outputs": [],
   "source": [
    "batch_size = 64\n",
    "num_seqs = 10\n",
    "num_tokens = 1000"
   ]
  },
  {
   "cell_type": "code",
   "execution_count": 10,
   "metadata": {},
   "outputs": [],
   "source": [
    "x = torch.randint(low=0, high=1000, size=(batch_size, num_seqs, num_tokens))\n",
    "emb = nn.Embedding(1000, 8)\n",
    "gru = nn.GRU(8, 16, batch_first=True, bidirectional=False, num_layers=1)\n",
    "gru_2 = nn.GRU(16, 1, batch_first=True, bidirectional=False, num_layers=1)\n",
    "lin = nn.Linear(1000, 1)"
   ]
  },
  {
   "cell_type": "code",
   "execution_count": 18,
   "metadata": {},
   "outputs": [
    {
     "name": "stdout",
     "output_type": "stream",
     "text": [
      "torch.Size([64, 10, 1000])\n",
      "torch.Size([64, 10, 1000, 8])\n",
      "torch.Size([64, 1000, 16])\n",
      "torch.Size([64, 1000, 1])\n",
      "torch.Size([64, 1000])\n",
      "torch.Size([64, 1])\n"
     ]
    }
   ],
   "source": [
    "embedded = emb(x); print(x.shape)\n",
    "h = torch.zeros(1, batch_size, 16); print(embedded.shape)\n",
    "for i in range(num_seqs):\n",
    "    embedded_one_seq = embedded[:, i]\n",
    "    grued_one_seq, h = gru(embedded_one_seq, h)\n",
    "print(grued_one_seq.shape)\n",
    "squeezed_mini_batch, h_ = gru_2(grued_one_seq); print(squeezed_mini_batch.shape)\n",
    "squeezed_mini_batch = squeezed_mini_batch.squeeze(-1); print(squeezed_mini_batch.shape)\n",
    "result = lin(squeezed_mini_batch); print(result.shape)"
   ]
  },
  {
   "cell_type": "code",
   "execution_count": 34,
   "metadata": {},
   "outputs": [
    {
     "data": {
      "text/plain": [
       "(torch.Size([3]),\n",
       " torch.Size([3, 1]),\n",
       " (1,),\n",
       " (1, 1),\n",
       " tensor([[1],\n",
       "         [2],\n",
       "         [3]]))"
      ]
     },
     "execution_count": 34,
     "metadata": {},
     "output_type": "execute_result"
    }
   ],
   "source": [
    "keke = torch.tensor([1, 2, 3])\n",
    "keke_2 = keke.unsqueeze(-1)\n",
    "keke.shape, keke_2.shape, keke.stride(), keke_2.stride(), keke_2"
   ]
  },
  {
   "cell_type": "code",
   "execution_count": 33,
   "metadata": {},
   "outputs": [
    {
     "data": {
      "text/plain": [
       "( 1\n",
       "  2\n",
       "  3\n",
       " [torch.storage.TypedStorage(dtype=torch.int64, device=cpu) of size 3],\n",
       "  1\n",
       "  2\n",
       "  3\n",
       " [torch.storage.TypedStorage(dtype=torch.int64, device=cpu) of size 3])"
      ]
     },
     "execution_count": 33,
     "metadata": {},
     "output_type": "execute_result"
    }
   ],
   "source": [
    "keke.storage(), keke_2.storage()"
   ]
  },
  {
   "cell_type": "code",
   "execution_count": 13,
   "metadata": {},
   "outputs": [],
   "source": [
    "loss = embedded_one_seq.mean()\n",
    "loss.backward()"
   ]
  }
 ],
 "metadata": {
  "kernelspec": {
   "display_name": "fast",
   "language": "python",
   "name": "python3"
  },
  "language_info": {
   "codemirror_mode": {
    "name": "ipython",
    "version": 3
   },
   "file_extension": ".py",
   "mimetype": "text/x-python",
   "name": "python",
   "nbconvert_exporter": "python",
   "pygments_lexer": "ipython3",
   "version": "3.10.12"
  }
 },
 "nbformat": 4,
 "nbformat_minor": 2
}
