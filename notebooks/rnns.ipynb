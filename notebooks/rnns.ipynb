{
 "cells": [
  {
   "cell_type": "code",
   "execution_count": 126,
   "metadata": {},
   "outputs": [],
   "source": [
    "import torch\n",
    "import torch.nn as nn\n",
    "import torch.nn.functional as F\n",
    "from torch.utils.data import Dataset, DataLoader, DataChunk"
   ]
  },
  {
   "cell_type": "code",
   "execution_count": 15,
   "metadata": {},
   "outputs": [],
   "source": [
    "torch.set_printoptions(precision=3, linewidth=140, sci_mode=False)"
   ]
  },
  {
   "cell_type": "code",
   "execution_count": 16,
   "metadata": {},
   "outputs": [],
   "source": [
    "batch_size = 1\n",
    "num_seqs = 12\n",
    "num_tokens = 1000"
   ]
  },
  {
   "cell_type": "code",
   "execution_count": 17,
   "metadata": {},
   "outputs": [],
   "source": [
    "x = torch.randint(low=0, high=1000, size=(batch_size, num_seqs, num_tokens))\n",
    "emb = nn.Embedding(10000, 8)\n",
    "gru = nn.GRU(8, 16, batch_first=True, bidirectional=False, num_layers=1)\n",
    "gru_2 = nn.GRU(16, 1, batch_first=True, bidirectional=False, num_layers=1)\n",
    "lin = nn.Linear(1000, 1)"
   ]
  },
  {
   "cell_type": "code",
   "execution_count": 18,
   "metadata": {},
   "outputs": [
    {
     "name": "stdout",
     "output_type": "stream",
     "text": [
      "torch.Size([1, 12, 1000])\n",
      "torch.Size([1, 12, 1000, 8])\n",
      "torch.Size([1, 1000, 16])\n",
      "torch.Size([1, 1000, 1])\n",
      "torch.Size([1, 1000])\n",
      "torch.Size([1, 1])\n"
     ]
    }
   ],
   "source": [
    "embedded = emb(x); print(x.shape)\n",
    "h = torch.zeros(1, batch_size, 16); print(embedded.shape)\n",
    "for i in range(num_seqs):\n",
    "    embedded_one_seq = embedded[:, i]\n",
    "    grued_one_seq, h = gru(embedded_one_seq, h)\n",
    "print(grued_one_seq.shape)\n",
    "squeezed_mini_batch, h_ = gru_2(grued_one_seq); print(squeezed_mini_batch.shape)\n",
    "squeezed_mini_batch = squeezed_mini_batch.squeeze(-1); print(squeezed_mini_batch.shape)\n",
    "result = lin(squeezed_mini_batch); print(result.shape)"
   ]
  },
  {
   "cell_type": "code",
   "execution_count": 19,
   "metadata": {},
   "outputs": [
    {
     "data": {
      "text/plain": [
       "torch.Size([100, 1000])"
      ]
     },
     "execution_count": 19,
     "metadata": {},
     "output_type": "execute_result"
    }
   ],
   "source": [
    "l = [torch.randn(1000) for i in range(100)]\n",
    "torch.stack(l).shape"
   ]
  },
  {
   "cell_type": "code",
   "execution_count": 20,
   "metadata": {},
   "outputs": [
    {
     "data": {
      "text/plain": [
       "(torch.Size([3]),\n",
       " torch.Size([3, 1]),\n",
       " (1,),\n",
       " (1, 1),\n",
       " tensor([[1],\n",
       "         [2],\n",
       "         [3]]))"
      ]
     },
     "execution_count": 20,
     "metadata": {},
     "output_type": "execute_result"
    }
   ],
   "source": [
    "keke = torch.tensor([1, 2, 3])\n",
    "keke_2 = keke.unsqueeze(-1)\n",
    "keke.shape, keke_2.shape, keke.stride(), keke_2.stride(), keke_2"
   ]
  },
  {
   "cell_type": "code",
   "execution_count": 21,
   "metadata": {},
   "outputs": [
    {
     "data": {
      "text/plain": [
       "( 1\n",
       "  2\n",
       "  3\n",
       " [torch.storage.TypedStorage(dtype=torch.int64, device=cpu) of size 3],\n",
       "  1\n",
       "  2\n",
       "  3\n",
       " [torch.storage.TypedStorage(dtype=torch.int64, device=cpu) of size 3])"
      ]
     },
     "execution_count": 21,
     "metadata": {},
     "output_type": "execute_result"
    }
   ],
   "source": [
    "keke.storage(), keke_2.storage()"
   ]
  },
  {
   "cell_type": "code",
   "execution_count": 22,
   "metadata": {},
   "outputs": [],
   "source": [
    "loss = embedded_one_seq.mean()\n",
    "loss.backward()"
   ]
  },
  {
   "cell_type": "code",
   "execution_count": 185,
   "metadata": {},
   "outputs": [],
   "source": [
    "import random\n",
    "\n",
    "class RandomSizeDataset(Dataset):\n",
    "    def __init__(self, min = 1000, max=10000) -> None:\n",
    "        super().__init__()\n",
    "        self.min = min\n",
    "        self.max = max\n",
    "\n",
    "    def __getitem__(self, index):\n",
    "        return torch.randint(1, 10000, (random.randint(self.min, self.max), )), random.randint(1, 10)\n",
    "\n",
    "    def __len__(self):\n",
    "        return 100"
   ]
  },
  {
   "cell_type": "code",
   "execution_count": 227,
   "metadata": {},
   "outputs": [],
   "source": [
    "def collate_fn(batch):\n",
    "    xs = [b[0] for b in batch]\n",
    "    ys = [b[1] for b in batch]\n",
    "    ls = [b[0].shape[0] for b in batch]\n",
    "    padded = nn.utils.rnn.pad_sequence(xs, batch_first=True, padding_value=0)\n",
    "    return padded, ls, torch.tensor(ys)\n",
    "\n",
    "batch_size = 10\n",
    "\n",
    "dl = DataLoader(\n",
    "    dataset=RandomSizeDataset(1000, 100000),\n",
    "    batch_size=batch_size,\n",
    "    collate_fn=collate_fn\n",
    ")"
   ]
  },
  {
   "cell_type": "code",
   "execution_count": 228,
   "metadata": {},
   "outputs": [],
   "source": [
    "x, l, y = next(iter(dl))"
   ]
  },
  {
   "cell_type": "code",
   "execution_count": 232,
   "metadata": {},
   "outputs": [
    {
     "data": {
      "text/plain": [
       "torch.Size([10, 97275])"
      ]
     },
     "execution_count": 232,
     "metadata": {},
     "output_type": "execute_result"
    }
   ],
   "source": [
    "x.shape"
   ]
  },
  {
   "cell_type": "code",
   "execution_count": 238,
   "metadata": {},
   "outputs": [],
   "source": [
    "emb = nn.Embedding(10000, 8).cuda()\n",
    "gru = nn.GRU(8, 16, batch_first=True, bidirectional=False, num_layers=1).cuda()\n",
    "gru_2 = nn.GRU(16, 1, batch_first=True, bidirectional=False, num_layers=1).cuda()\n",
    "lin = nn.Linear(1000, 1).cuda()"
   ]
  },
  {
   "cell_type": "code",
   "execution_count": 239,
   "metadata": {},
   "outputs": [],
   "source": [
    "def f(x, l):\n",
    "    x = x.cuda()\n",
    "    embedded = emb(x)\n",
    "    packed = nn.utils.rnn.pack_padded_sequence(embedded, l, batch_first=True, enforce_sorted=False)\n",
    "    h = torch.zeros(1, batch_size, 16).cuda()\n",
    "    grued, h = gru(packed, h)\n",
    "    grued_2, h = gru_2(grued)\n",
    "    unpacked, unpacked_len = torch.nn.utils.rnn.pad_packed_sequence(grued_2)\n"
   ]
  },
  {
   "cell_type": "code",
   "execution_count": 240,
   "metadata": {},
   "outputs": [
    {
     "name": "stdout",
     "output_type": "stream",
     "text": [
      "974 ms ± 4.49 ms per loop (mean ± std. dev. of 7 runs, 1 loop each)\n"
     ]
    }
   ],
   "source": [
    "%timeit f(x, l)"
   ]
  },
  {
   "cell_type": "code",
   "execution_count": 219,
   "metadata": {},
   "outputs": [],
   "source": []
  }
 ],
 "metadata": {
  "kernelspec": {
   "display_name": "fast",
   "language": "python",
   "name": "python3"
  },
  "language_info": {
   "codemirror_mode": {
    "name": "ipython",
    "version": 3
   },
   "file_extension": ".py",
   "mimetype": "text/x-python",
   "name": "python",
   "nbconvert_exporter": "python",
   "pygments_lexer": "ipython3",
   "version": "3.10.12"
  }
 },
 "nbformat": 4,
 "nbformat_minor": 2
}
