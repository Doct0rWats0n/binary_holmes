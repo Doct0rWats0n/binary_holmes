{
 "cells": [
  {
   "cell_type": "code",
   "execution_count": 2,
   "id": "13e3f211-bffe-4033-9a60-937004982ad9",
   "metadata": {},
   "outputs": [],
   "source": [
    "%load_ext autoreload\n",
    "%autoreload 2"
   ]
  },
  {
   "cell_type": "code",
   "execution_count": 40,
   "id": "448dd444-4d4d-4bae-af36-720675743475",
   "metadata": {},
   "outputs": [],
   "source": [
    "from torch.nn.functional import cross_entropy\n",
    "import torch\n",
    "import sys\n",
    "from argparse import Namespace"
   ]
  },
  {
   "cell_type": "code",
   "execution_count": 4,
   "id": "27dbb2a1-2064-40a9-8182-237f4b877cb6",
   "metadata": {},
   "outputs": [],
   "source": [
    "sys.path.append('../')"
   ]
  },
  {
   "cell_type": "code",
   "execution_count": 5,
   "id": "0d61628c-bd5d-4d90-a2f1-6320b115e514",
   "metadata": {},
   "outputs": [],
   "source": [
    "import src.models.rnns"
   ]
  },
  {
   "cell_type": "code",
   "execution_count": 6,
   "id": "eb6fe6ca-fb22-453d-a436-867f307eaa69",
   "metadata": {},
   "outputs": [],
   "source": [
    "from src.models.rnns import GRU"
   ]
  },
  {
   "cell_type": "code",
   "execution_count": 7,
   "id": "eee835be-c5e1-4879-bee7-6c04cc79a344",
   "metadata": {},
   "outputs": [],
   "source": [
    "from src.data import SARD"
   ]
  },
  {
   "cell_type": "code",
   "execution_count": 8,
   "id": "118b2052-19af-40b4-82a9-eb0a927b8af9",
   "metadata": {},
   "outputs": [],
   "source": [
    "sard_dataset = SARD(Namespace())"
   ]
  },
  {
   "cell_type": "code",
   "execution_count": 9,
   "id": "fc997415-72f3-4dfe-aa8b-632cbccc2883",
   "metadata": {},
   "outputs": [
    {
     "name": "stdout",
     "output_type": "stream",
     "text": [
      "PREPARING\n"
     ]
    }
   ],
   "source": [
    "sard_dataset.prepare_data()"
   ]
  },
  {
   "cell_type": "code",
   "execution_count": 10,
   "id": "64b9ba28-6010-41ed-ae45-b3fd236a798e",
   "metadata": {},
   "outputs": [],
   "source": [
    "sard_dataset.setup()"
   ]
  },
  {
   "cell_type": "code",
   "execution_count": 20,
   "id": "419fcf72-0339-4803-a8f6-12229fad15f8",
   "metadata": {},
   "outputs": [],
   "source": [
    "loader = sard_dataset.train_dataloader()"
   ]
  },
  {
   "cell_type": "code",
   "execution_count": 16,
   "id": "b3c3af14-5685-409a-9b5b-9abd88bc471b",
   "metadata": {},
   "outputs": [],
   "source": [
    "config_info = sard_dataset.config()"
   ]
  },
  {
   "cell_type": "code",
   "execution_count": 68,
   "id": "94c2852b-144b-4139-a197-670c6e3744c4",
   "metadata": {},
   "outputs": [],
   "source": [
    "model = GRU(config_info)"
   ]
  },
  {
   "cell_type": "code",
   "execution_count": 69,
   "id": "7ae032cc-e62e-4d78-b468-433995a74d02",
   "metadata": {},
   "outputs": [
    {
     "data": {
      "text/plain": [
       "GRU(\n",
       "  (embed): Embedding(1235, 128)\n",
       "  (rnn): GRU(128, 64, batch_first=True, bidirectional=True)\n",
       "  (drop1): Dropout(p=0.5, inplace=False)\n",
       "  (fc1): Linear(in_features=128, out_features=32, bias=True)\n",
       "  (fc2): Linear(in_features=32, out_features=19, bias=True)\n",
       ")"
      ]
     },
     "execution_count": 69,
     "metadata": {},
     "output_type": "execute_result"
    }
   ],
   "source": [
    "model"
   ]
  },
  {
   "cell_type": "code",
   "execution_count": 70,
   "id": "34ce7721-e38c-4275-8eee-a7a1c1a26609",
   "metadata": {},
   "outputs": [],
   "source": [
    "x, y = next(iter(loader))"
   ]
  },
  {
   "cell_type": "code",
   "execution_count": 71,
   "id": "f14860ae-2a4b-46e2-9415-66b1ee5be8ad",
   "metadata": {},
   "outputs": [
    {
     "data": {
      "text/plain": [
       "torch.Size([8, 1000])"
      ]
     },
     "execution_count": 71,
     "metadata": {},
     "output_type": "execute_result"
    }
   ],
   "source": [
    "x.shape"
   ]
  },
  {
   "cell_type": "code",
   "execution_count": 72,
   "id": "aa53cab4-07e8-40d8-b4c1-46ddc2c2a9af",
   "metadata": {},
   "outputs": [
    {
     "data": {
      "text/plain": [
       "torch.Size([8, 19])"
      ]
     },
     "execution_count": 72,
     "metadata": {},
     "output_type": "execute_result"
    }
   ],
   "source": [
    "y.shape"
   ]
  },
  {
   "cell_type": "code",
   "execution_count": 73,
   "id": "8d8dd48a-4ac5-4058-9cbe-55ec8bc08439",
   "metadata": {},
   "outputs": [
    {
     "data": {
      "text/plain": [
       "torch.Size([8, 19])"
      ]
     },
     "execution_count": 73,
     "metadata": {},
     "output_type": "execute_result"
    }
   ],
   "source": [
    "model(x).shape"
   ]
  },
  {
   "cell_type": "code",
   "execution_count": 74,
   "id": "c5144d91-0a95-4cbc-a356-4fd3d9cfe8ad",
   "metadata": {},
   "outputs": [],
   "source": [
    "e = model.embed"
   ]
  },
  {
   "cell_type": "code",
   "execution_count": 75,
   "id": "ce43e98c-7ea3-4474-9271-7af78e905aa1",
   "metadata": {},
   "outputs": [
    {
     "data": {
      "text/plain": [
       "Embedding(1235, 128)"
      ]
     },
     "execution_count": 75,
     "metadata": {},
     "output_type": "execute_result"
    }
   ],
   "source": [
    "e"
   ]
  },
  {
   "cell_type": "code",
   "execution_count": 76,
   "id": "c6441259-e1f0-4fb8-a168-0745f1d5e15d",
   "metadata": {},
   "outputs": [],
   "source": [
    "gru = model.rnn"
   ]
  },
  {
   "cell_type": "code",
   "execution_count": 77,
   "id": "47b7ed6b-4855-42a5-9d40-c0d05259e3ca",
   "metadata": {},
   "outputs": [
    {
     "data": {
      "text/plain": [
       "GRU(128, 64, batch_first=True, bidirectional=True)"
      ]
     },
     "execution_count": 77,
     "metadata": {},
     "output_type": "execute_result"
    }
   ],
   "source": [
    "gru"
   ]
  },
  {
   "cell_type": "code",
   "execution_count": 78,
   "id": "2ad53041-d786-4833-9785-c9896705e466",
   "metadata": {},
   "outputs": [],
   "source": [
    "t, h = gru(e(x))"
   ]
  },
  {
   "cell_type": "code",
   "execution_count": 79,
   "id": "527643ed-0fb7-4f79-9706-8f061f060c80",
   "metadata": {},
   "outputs": [
    {
     "data": {
      "text/plain": [
       "(torch.Size([8, 1000, 128]), torch.Size([2, 8, 64]))"
      ]
     },
     "execution_count": 79,
     "metadata": {},
     "output_type": "execute_result"
    }
   ],
   "source": [
    "t.shape, h.shape"
   ]
  },
  {
   "cell_type": "code",
   "execution_count": 80,
   "id": "765c8edb-5174-4966-845d-a049244b7c7b",
   "metadata": {},
   "outputs": [],
   "source": [
    "xh = torch.cat((h[-2, :], h[-1, :]), dim=-1)"
   ]
  },
  {
   "cell_type": "code",
   "execution_count": 81,
   "id": "4e1c6154-7de5-4271-a219-486ae0d2b783",
   "metadata": {},
   "outputs": [
    {
     "data": {
      "text/plain": [
       "tensor([[-0.4607, -0.4282,  0.1003,  ..., -0.7474,  0.5012, -0.4603],\n",
       "        [-0.5849, -0.4563, -0.2488,  ..., -0.7474,  0.5012, -0.4603],\n",
       "        [-0.5323, -0.1876, -0.1156,  ..., -0.7474,  0.5010, -0.4603],\n",
       "        ...,\n",
       "        [ 0.4870, -0.0844,  0.1155,  ..., -0.7573,  0.5110, -0.4582],\n",
       "        [-0.3649,  0.1806,  0.5250,  ..., -0.6255, -0.0860, -0.2704],\n",
       "        [-0.1269, -0.5354,  0.1895,  ..., -0.7960,  0.4425, -0.4617]],\n",
       "       grad_fn=<CatBackward0>)"
      ]
     },
     "execution_count": 81,
     "metadata": {},
     "output_type": "execute_result"
    }
   ],
   "source": [
    "xh"
   ]
  },
  {
   "cell_type": "code",
   "execution_count": 82,
   "id": "215ad661-70b7-4cf9-b241-225ec8b503df",
   "metadata": {},
   "outputs": [
    {
     "data": {
      "text/plain": [
       "torch.Size([8, 128])"
      ]
     },
     "execution_count": 82,
     "metadata": {},
     "output_type": "execute_result"
    }
   ],
   "source": [
    "xh.shape"
   ]
  },
  {
   "cell_type": "code",
   "execution_count": 83,
   "id": "0f742234-1ad5-475c-a5b7-51c7704c2624",
   "metadata": {},
   "outputs": [
    {
     "data": {
      "text/plain": [
       "torch.Size([8, 19])"
      ]
     },
     "execution_count": 83,
     "metadata": {},
     "output_type": "execute_result"
    }
   ],
   "source": [
    "model.forward(x).shape"
   ]
  },
  {
   "cell_type": "code",
   "execution_count": 84,
   "id": "62161972-56a9-4b33-8dc6-fa5005d17b1e",
   "metadata": {},
   "outputs": [
    {
     "data": {
      "text/plain": [
       "torch.Size([8, 32])"
      ]
     },
     "execution_count": 84,
     "metadata": {},
     "output_type": "execute_result"
    }
   ],
   "source": [
    "model.fc1(xh).shape"
   ]
  },
  {
   "cell_type": "code",
   "execution_count": 85,
   "id": "81968a16-08f8-4e08-933c-fcbf7e766834",
   "metadata": {},
   "outputs": [
    {
     "data": {
      "text/plain": [
       "torch.Size([8, 19])"
      ]
     },
     "execution_count": 85,
     "metadata": {},
     "output_type": "execute_result"
    }
   ],
   "source": [
    "model.fc2(model.fc1(xh)).shape"
   ]
  }
 ],
 "metadata": {
  "kernelspec": {
   "display_name": "binarySecEnv",
   "language": "python",
   "name": "binarysecenv"
  },
  "language_info": {
   "codemirror_mode": {
    "name": "ipython",
    "version": 3
   },
   "file_extension": ".py",
   "mimetype": "text/x-python",
   "name": "python",
   "nbconvert_exporter": "python",
   "pygments_lexer": "ipython3",
   "version": "3.11.6"
  }
 },
 "nbformat": 4,
 "nbformat_minor": 5
}
